{
  "cells": [
    {
      "cell_type": "markdown",
      "metadata": {
        "id": "view-in-github",
        "colab_type": "text"
      },
      "source": [
        "<a href=\"https://colab.research.google.com/github/Usharani04/value-added-course/blob/main/Array%20Functions.ipynb\" target=\"_parent\"><img src=\"https://colab.research.google.com/assets/colab-badge.svg\" alt=\"Open In Colab\"/></a>"
      ]
    },
    {
      "cell_type": "code",
      "execution_count": 1,
      "id": "c207d551-ecf7-48ca-9be0-9d157c09bf03",
      "metadata": {
        "tags": [],
        "id": "c207d551-ecf7-48ca-9be0-9d157c09bf03"
      },
      "outputs": [],
      "source": [
        "import numpy as np"
      ]
    },
    {
      "cell_type": "code",
      "execution_count": 3,
      "id": "c928c111-fb1c-4203-87ca-4fea357866d2",
      "metadata": {
        "tags": [],
        "id": "c928c111-fb1c-4203-87ca-4fea357866d2",
        "outputId": "45469116-c14b-497c-bf12-7b3a3bf4bfcb",
        "colab": {
          "base_uri": "https://localhost:8080/"
        }
      },
      "outputs": [
        {
          "output_type": "execute_result",
          "data": {
            "text/plain": [
              "11"
            ]
          },
          "metadata": {},
          "execution_count": 3
        }
      ],
      "source": [
        "np.random.randint(12)"
      ]
    },
    {
      "cell_type": "code",
      "execution_count": 2,
      "id": "1a6cdb19-0938-4df2-b80e-b23e7092955f",
      "metadata": {
        "tags": [],
        "id": "1a6cdb19-0938-4df2-b80e-b23e7092955f"
      },
      "outputs": [],
      "source": [
        "arr1=np.random.randn(12)"
      ]
    },
    {
      "cell_type": "code",
      "execution_count": 5,
      "id": "723aeffb-a735-4778-8a00-973cedc9c42d",
      "metadata": {
        "tags": [],
        "id": "723aeffb-a735-4778-8a00-973cedc9c42d",
        "outputId": "09d65576-3fca-4029-9347-1236d8e72afe",
        "colab": {
          "base_uri": "https://localhost:8080/"
        }
      },
      "outputs": [
        {
          "output_type": "execute_result",
          "data": {
            "text/plain": [
              "array([ 0.60214495, -0.17102284,  0.91867879, -0.75622487, -2.69991797,\n",
              "       -0.50011698, -1.03056425, -0.73908356, -1.78743817, -0.38956518,\n",
              "       -1.53310159,  0.01835532])"
            ]
          },
          "metadata": {},
          "execution_count": 5
        }
      ],
      "source": [
        "arr1"
      ]
    },
    {
      "cell_type": "code",
      "execution_count": 4,
      "id": "de08cdad-6cfa-41b6-acfc-1c47f2ccdfe0",
      "metadata": {
        "tags": [],
        "id": "de08cdad-6cfa-41b6-acfc-1c47f2ccdfe0",
        "outputId": "5f13f2c0-1dca-4e66-d6a9-57a1bcfdea5e",
        "colab": {
          "base_uri": "https://localhost:8080/"
        }
      },
      "outputs": [
        {
          "output_type": "stream",
          "name": "stderr",
          "text": [
            "<ipython-input-4-31bdbbe4b4c3>:1: RuntimeWarning: invalid value encountered in sqrt\n",
            "  np.sqrt(arr1)\n"
          ]
        },
        {
          "output_type": "execute_result",
          "data": {
            "text/plain": [
              "array([0.77597999,        nan, 0.95847733,        nan,        nan,\n",
              "              nan,        nan,        nan,        nan,        nan,\n",
              "              nan, 0.1354818 ])"
            ]
          },
          "metadata": {},
          "execution_count": 4
        }
      ],
      "source": [
        "np.sqrt(arr1)"
      ]
    },
    {
      "cell_type": "code",
      "execution_count": 6,
      "id": "919eca77-01ef-4a69-a013-43708f627ac3",
      "metadata": {
        "tags": [],
        "id": "919eca77-01ef-4a69-a013-43708f627ac3",
        "outputId": "5155f8a4-fe61-47f5-f6b6-b99676708d53",
        "colab": {
          "base_uri": "https://localhost:8080/"
        }
      },
      "outputs": [
        {
          "output_type": "execute_result",
          "data": {
            "text/plain": [
              "array([1.82603134, 0.84280232, 2.50597727, 0.46943526, 0.06721103,\n",
              "       0.60645971, 0.35680557, 0.47755136, 0.16738844, 0.67735134,\n",
              "       0.2158651 , 1.01852481])"
            ]
          },
          "metadata": {},
          "execution_count": 6
        }
      ],
      "source": [
        "np.exp(arr1)"
      ]
    },
    {
      "cell_type": "code",
      "execution_count": 7,
      "id": "bcd11c47-9d33-4a0e-ba7e-6cb3c447e1c8",
      "metadata": {
        "tags": [],
        "id": "bcd11c47-9d33-4a0e-ba7e-6cb3c447e1c8"
      },
      "outputs": [],
      "source": [
        "arr2=np.random.randn(12)"
      ]
    },
    {
      "cell_type": "code",
      "execution_count": 8,
      "id": "7a58ae78-10a1-4868-becd-bf88b3664157",
      "metadata": {
        "tags": [],
        "id": "7a58ae78-10a1-4868-becd-bf88b3664157",
        "outputId": "a48f8d9a-6835-4df7-acec-a5f8114f634d",
        "colab": {
          "base_uri": "https://localhost:8080/"
        }
      },
      "outputs": [
        {
          "output_type": "execute_result",
          "data": {
            "text/plain": [
              "array([-0.27465453, -0.80866136, -0.39212182, -0.05911829, -0.86082085,\n",
              "        0.3857281 ,  0.37685073,  0.6294992 , -0.21860714,  0.07099113,\n",
              "       -0.96890853,  0.71810885])"
            ]
          },
          "metadata": {},
          "execution_count": 8
        }
      ],
      "source": [
        "arr2"
      ]
    },
    {
      "cell_type": "code",
      "execution_count": 9,
      "id": "96a4220f-85a4-4129-80d3-dd28ac700d4c",
      "metadata": {
        "tags": [],
        "id": "96a4220f-85a4-4129-80d3-dd28ac700d4c",
        "outputId": "42a351cd-514b-4654-980c-4f0e9a5508bb",
        "colab": {
          "base_uri": "https://localhost:8080/"
        }
      },
      "outputs": [
        {
          "output_type": "execute_result",
          "data": {
            "text/plain": [
              "array([ 0.32749041, -0.9796842 ,  0.52655697, -0.81534316, -3.56073882,\n",
              "       -0.11438888, -0.65371353, -0.10958436, -2.0060453 , -0.31857405,\n",
              "       -2.50201013,  0.73646417])"
            ]
          },
          "metadata": {},
          "execution_count": 9
        }
      ],
      "source": [
        "np.add(arr1,arr2)"
      ]
    },
    {
      "cell_type": "code",
      "execution_count": 10,
      "id": "2fb14496-6ef1-4f75-8bca-49a2ff1a39dc",
      "metadata": {
        "tags": [],
        "id": "2fb14496-6ef1-4f75-8bca-49a2ff1a39dc",
        "outputId": "dc687539-48b2-4f6b-9f51-cf9a24cabcba",
        "colab": {
          "base_uri": "https://localhost:8080/"
        }
      },
      "outputs": [
        {
          "output_type": "execute_result",
          "data": {
            "text/plain": [
              "array([-0.27465453, -0.80866136, -0.39212182, -0.75622487, -2.69991797,\n",
              "       -0.50011698, -1.03056425, -0.73908356, -1.78743817, -0.38956518,\n",
              "       -1.53310159,  0.01835532])"
            ]
          },
          "metadata": {},
          "execution_count": 10
        }
      ],
      "source": [
        "np.minimum(arr1,arr2)"
      ]
    },
    {
      "cell_type": "code",
      "execution_count": 11,
      "id": "5af99c19-c079-400c-9d36-f791e6f5db37",
      "metadata": {
        "tags": [],
        "id": "5af99c19-c079-400c-9d36-f791e6f5db37",
        "outputId": "adfe17d6-e279-446f-8e95-a92376f7e9e1",
        "colab": {
          "base_uri": "https://localhost:8080/"
        }
      },
      "outputs": [
        {
          "output_type": "execute_result",
          "data": {
            "text/plain": [
              "array([ 0.60214495, -0.17102284,  0.91867879, -0.05911829, -0.86082085,\n",
              "        0.3857281 ,  0.37685073,  0.6294992 , -0.21860714,  0.07099113,\n",
              "       -0.96890853,  0.71810885])"
            ]
          },
          "metadata": {},
          "execution_count": 11
        }
      ],
      "source": [
        "np.maximum(arr1,arr2)"
      ]
    },
    {
      "cell_type": "code",
      "execution_count": 11,
      "id": "85b0c21e-1f21-46a3-8f47-f53c60c2c13b",
      "metadata": {
        "id": "85b0c21e-1f21-46a3-8f47-f53c60c2c13b"
      },
      "outputs": [],
      "source": []
    }
  ],
  "metadata": {
    "kernelspec": {
      "display_name": "Python 3 (ipykernel)",
      "language": "python",
      "name": "python3"
    },
    "language_info": {
      "codemirror_mode": {
        "name": "ipython",
        "version": 3
      },
      "file_extension": ".py",
      "mimetype": "text/x-python",
      "name": "python",
      "nbconvert_exporter": "python",
      "pygments_lexer": "ipython3",
      "version": "3.11.5"
    },
    "colab": {
      "provenance": [],
      "include_colab_link": true
    }
  },
  "nbformat": 4,
  "nbformat_minor": 5
}