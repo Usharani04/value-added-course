{
  "cells": [
    {
      "cell_type": "markdown",
      "metadata": {
        "id": "view-in-github",
        "colab_type": "text"
      },
      "source": [
        "<a href=\"https://colab.research.google.com/github/Usharani04/value-added-course/blob/main/arrayoprators.ipynb\" target=\"_parent\"><img src=\"https://colab.research.google.com/assets/colab-badge.svg\" alt=\"Open In Colab\"/></a>"
      ]
    },
    {
      "cell_type": "code",
      "execution_count": 1,
      "id": "2285f0a2-dcda-41c5-9e47-f598513d6997",
      "metadata": {
        "tags": [],
        "id": "2285f0a2-dcda-41c5-9e47-f598513d6997"
      },
      "outputs": [],
      "source": [
        "import numpy as np\n"
      ]
    },
    {
      "cell_type": "code",
      "execution_count": 2,
      "id": "f85e951c-5b19-44a9-a84a-639795129705",
      "metadata": {
        "tags": [],
        "id": "f85e951c-5b19-44a9-a84a-639795129705"
      },
      "outputs": [],
      "source": [
        "b=np.random.random((3,3))"
      ]
    },
    {
      "cell_type": "code",
      "execution_count": 3,
      "id": "7d28ff46-11f0-44ba-95a0-22a8e98dc12a",
      "metadata": {
        "tags": [],
        "id": "7d28ff46-11f0-44ba-95a0-22a8e98dc12a"
      },
      "outputs": [],
      "source": [
        "c=np.random.random((3,3))"
      ]
    },
    {
      "cell_type": "code",
      "execution_count": 4,
      "id": "09fba549-7a80-4015-a904-d96d2155662d",
      "metadata": {
        "tags": [],
        "id": "09fba549-7a80-4015-a904-d96d2155662d",
        "outputId": "f4a080ae-84fb-4272-d1e6-208a93e57948",
        "colab": {
          "base_uri": "https://localhost:8080/"
        }
      },
      "outputs": [
        {
          "output_type": "execute_result",
          "data": {
            "text/plain": [
              "array([[0.5894599 , 0.35402175, 0.75374781],\n",
              "       [0.84555088, 0.08080284, 0.78170755],\n",
              "       [0.17670211, 0.00933205, 0.95444603]])"
            ]
          },
          "metadata": {},
          "execution_count": 4
        }
      ],
      "source": [
        "b"
      ]
    },
    {
      "cell_type": "code",
      "execution_count": 5,
      "id": "e3931c52-1186-4749-b5f2-28dbfeb06438",
      "metadata": {
        "tags": [],
        "id": "e3931c52-1186-4749-b5f2-28dbfeb06438",
        "outputId": "724d5fd1-f343-4743-b418-869a04a1e3c2",
        "colab": {
          "base_uri": "https://localhost:8080/"
        }
      },
      "outputs": [
        {
          "output_type": "execute_result",
          "data": {
            "text/plain": [
              "array([[0.13778684, 0.42723381, 0.28504738],\n",
              "       [0.61833531, 0.82159138, 0.49074826],\n",
              "       [0.99114911, 0.10358076, 0.15589815]])"
            ]
          },
          "metadata": {},
          "execution_count": 5
        }
      ],
      "source": [
        "c"
      ]
    },
    {
      "cell_type": "code",
      "execution_count": 6,
      "id": "e8b0780d-b906-4742-8523-e6a35d397121",
      "metadata": {
        "tags": [],
        "id": "e8b0780d-b906-4742-8523-e6a35d397121",
        "outputId": "ebb6e1ec-775b-4781-e8ac-dc63d706fd40",
        "colab": {
          "base_uri": "https://localhost:8080/"
        }
      },
      "outputs": [
        {
          "output_type": "execute_result",
          "data": {
            "text/plain": [
              "array([[0.72724674, 0.78125557, 1.03879519],\n",
              "       [1.4638862 , 0.90239421, 1.27245581],\n",
              "       [1.16785122, 0.11291281, 1.11034418]])"
            ]
          },
          "metadata": {},
          "execution_count": 6
        }
      ],
      "source": [
        "b + c"
      ]
    },
    {
      "cell_type": "code",
      "execution_count": 7,
      "id": "ec5dbacb-01af-4c6b-a5ce-0c243776a572",
      "metadata": {
        "tags": [],
        "id": "ec5dbacb-01af-4c6b-a5ce-0c243776a572",
        "outputId": "dac77024-6129-4c95-a43e-d543241f0847",
        "colab": {
          "base_uri": "https://localhost:8080/"
        }
      },
      "outputs": [
        {
          "output_type": "execute_result",
          "data": {
            "text/plain": [
              "array([[ 0.45167306, -0.07321206,  0.46870043],\n",
              "       [ 0.22721557, -0.74078854,  0.29095929],\n",
              "       [-0.81444699, -0.0942487 ,  0.79854789]])"
            ]
          },
          "metadata": {},
          "execution_count": 7
        }
      ],
      "source": [
        "b -c"
      ]
    },
    {
      "cell_type": "code",
      "execution_count": 8,
      "id": "1227c281-91b1-4527-8ab3-4840c7537571",
      "metadata": {
        "tags": [],
        "id": "1227c281-91b1-4527-8ab3-4840c7537571",
        "outputId": "d0b1d48d-498b-4ba1-b412-1cf4d6e5d441",
        "colab": {
          "base_uri": "https://localhost:8080/"
        }
      },
      "outputs": [
        {
          "output_type": "execute_result",
          "data": {
            "text/plain": [
              "array([[0.08121982, 0.15125006, 0.21485384],\n",
              "       [0.52283397, 0.06638692, 0.38362162],\n",
              "       [0.17513814, 0.00096662, 0.14879637]])"
            ]
          },
          "metadata": {},
          "execution_count": 8
        }
      ],
      "source": [
        "b*c"
      ]
    },
    {
      "cell_type": "code",
      "execution_count": 9,
      "id": "999af1ad-db64-4c70-b4ca-8fab2f41b64d",
      "metadata": {
        "tags": [],
        "id": "999af1ad-db64-4c70-b4ca-8fab2f41b64d",
        "outputId": "7dfbecc2-debe-4a51-d9dd-2cc37af37dc0",
        "colab": {
          "base_uri": "https://localhost:8080/"
        }
      },
      "outputs": [
        {
          "output_type": "execute_result",
          "data": {
            "text/plain": [
              "array([[4.27805668, 0.82863702, 2.64428954],\n",
              "       [1.36746336, 0.09834918, 1.59288909],\n",
              "       [0.17828005, 0.09009446, 6.12224108]])"
            ]
          },
          "metadata": {},
          "execution_count": 9
        }
      ],
      "source": [
        "b/c"
      ]
    },
    {
      "cell_type": "code",
      "execution_count": 10,
      "id": "c95d3bf4-f0bb-4fec-9a2b-d20106fc69de",
      "metadata": {
        "tags": [],
        "id": "c95d3bf4-f0bb-4fec-9a2b-d20106fc69de",
        "outputId": "32dee585-c922-4adb-92b2-7d9a891937e2",
        "colab": {
          "base_uri": "https://localhost:8080/"
        }
      },
      "outputs": [
        {
          "output_type": "execute_result",
          "data": {
            "text/plain": [
              "array([[0.03831255, 0.35402175, 0.18365305],\n",
              "       [0.22721557, 0.08080284, 0.29095929],\n",
              "       [0.17670211, 0.00933205, 0.01905716]])"
            ]
          },
          "metadata": {},
          "execution_count": 10
        }
      ],
      "source": [
        "b%c"
      ]
    },
    {
      "cell_type": "code",
      "execution_count": 11,
      "id": "de32a07a-eb26-4120-9b4e-4353e20568d9",
      "metadata": {
        "tags": [],
        "id": "de32a07a-eb26-4120-9b4e-4353e20568d9",
        "outputId": "8bd89c4f-6da5-4449-bb8c-a29385eca052",
        "colab": {
          "base_uri": "https://localhost:8080/"
        }
      },
      "outputs": [
        {
          "output_type": "execute_result",
          "data": {
            "text/plain": [
              "array([[7.2575873 , 2.34063871, 3.5081887 ],\n",
              "       [1.61724549, 1.21715007, 2.03770462],\n",
              "       [1.00892993, 9.65430293, 6.41444446]])"
            ]
          },
          "metadata": {},
          "execution_count": 11
        }
      ],
      "source": [
        "1/c"
      ]
    },
    {
      "cell_type": "code",
      "execution_count": 12,
      "id": "a7b6d8f1-c232-4bfd-be0b-d66cb061934e",
      "metadata": {
        "tags": [],
        "id": "a7b6d8f1-c232-4bfd-be0b-d66cb061934e",
        "outputId": "aba5fb2d-6c0d-4577-ba2d-ad188409258e",
        "colab": {
          "base_uri": "https://localhost:8080/"
        }
      },
      "outputs": [
        {
          "output_type": "execute_result",
          "data": {
            "text/plain": [
              "array([[  3.39293648,   5.64937038,   2.65340738],\n",
              "       [  2.36532187,  24.75160563,   2.55850158],\n",
              "       [ 11.31848383, 214.3151208 ,   2.09545635]])"
            ]
          },
          "metadata": {},
          "execution_count": 12
        }
      ],
      "source": [
        "2/b"
      ]
    },
    {
      "cell_type": "code",
      "execution_count": 13,
      "id": "3f12718d-1f89-4d21-b850-d1759bd1ffe2",
      "metadata": {
        "tags": [],
        "id": "3f12718d-1f89-4d21-b850-d1759bd1ffe2"
      },
      "outputs": [],
      "source": [
        "b += c #b=b+c"
      ]
    },
    {
      "cell_type": "code",
      "execution_count": 14,
      "id": "27ff1012-ca49-4cab-a014-d33005c068b9",
      "metadata": {
        "tags": [],
        "id": "27ff1012-ca49-4cab-a014-d33005c068b9",
        "outputId": "2d001b21-25c8-4210-fec8-1e329bd7aeac",
        "colab": {
          "base_uri": "https://localhost:8080/"
        }
      },
      "outputs": [
        {
          "output_type": "execute_result",
          "data": {
            "text/plain": [
              "array([[0.72724674, 0.78125557, 1.03879519],\n",
              "       [1.4638862 , 0.90239421, 1.27245581],\n",
              "       [1.16785122, 0.11291281, 1.11034418]])"
            ]
          },
          "metadata": {},
          "execution_count": 14
        }
      ],
      "source": [
        "b"
      ]
    },
    {
      "cell_type": "code",
      "execution_count": 15,
      "id": "3b8e6de1-17d0-4059-85ca-d2ae55fe4ae2",
      "metadata": {
        "tags": [],
        "id": "3b8e6de1-17d0-4059-85ca-d2ae55fe4ae2",
        "outputId": "0ef09755-73a2-46c7-945a-b78d31eef69a",
        "colab": {
          "base_uri": "https://localhost:8080/"
        }
      },
      "outputs": [
        {
          "output_type": "execute_result",
          "data": {
            "text/plain": [
              "array([[0.52888782, 0.61036026, 1.07909544],\n",
              "       [2.1429628 , 0.81431532, 1.61914379],\n",
              "       [1.36387647, 0.0127493 , 1.2328642 ]])"
            ]
          },
          "metadata": {},
          "execution_count": 15
        }
      ],
      "source": [
        " b**2"
      ]
    },
    {
      "cell_type": "code",
      "execution_count": 16,
      "id": "1d4dba0d-a6e7-4e96-9743-420067aaca95",
      "metadata": {
        "tags": [],
        "id": "1d4dba0d-a6e7-4e96-9743-420067aaca95",
        "outputId": "50582e25-cbf1-4511-c381-6fe5ebad312b",
        "colab": {
          "base_uri": "https://localhost:8080/"
        }
      },
      "outputs": [
        {
          "output_type": "execute_result",
          "data": {
            "text/plain": [
              "0.2758617313096681"
            ]
          },
          "metadata": {},
          "execution_count": 16
        }
      ],
      "source": [
        "0.52522541 *0.52522541"
      ]
    },
    {
      "cell_type": "code",
      "execution_count": 17,
      "id": "a7b23701-880d-43b0-ad50-2666d515905b",
      "metadata": {
        "id": "a7b23701-880d-43b0-ad50-2666d515905b",
        "outputId": "3a433993-1530-43eb-d45f-326a8ea63a01",
        "colab": {
          "base_uri": "https://localhost:8080/"
        }
      },
      "outputs": [
        {
          "output_type": "execute_result",
          "data": {
            "text/plain": [
              "2.1125656805635686"
            ]
          },
          "metadata": {},
          "execution_count": 17
        }
      ],
      "source": [
        "1.45346678 * 1.45346678"
      ]
    },
    {
      "cell_type": "code",
      "execution_count": 17,
      "id": "c45194ce-dd1d-4fe8-b107-24234a6d6166",
      "metadata": {
        "id": "c45194ce-dd1d-4fe8-b107-24234a6d6166"
      },
      "outputs": [],
      "source": []
    }
  ],
  "metadata": {
    "kernelspec": {
      "display_name": "Python 3 (ipykernel)",
      "language": "python",
      "name": "python3"
    },
    "language_info": {
      "codemirror_mode": {
        "name": "ipython",
        "version": 3
      },
      "file_extension": ".py",
      "mimetype": "text/x-python",
      "name": "python",
      "nbconvert_exporter": "python",
      "pygments_lexer": "ipython3",
      "version": "3.11.5"
    },
    "colab": {
      "provenance": [],
      "include_colab_link": true
    }
  },
  "nbformat": 4,
  "nbformat_minor": 5
}