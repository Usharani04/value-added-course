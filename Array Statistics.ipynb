{
  "cells": [
    {
      "cell_type": "markdown",
      "metadata": {
        "id": "view-in-github",
        "colab_type": "text"
      },
      "source": [
        "<a href=\"https://colab.research.google.com/github/Usharani04/value-added-course/blob/main/Array%20Statistics.ipynb\" target=\"_parent\"><img src=\"https://colab.research.google.com/assets/colab-badge.svg\" alt=\"Open In Colab\"/></a>"
      ]
    },
    {
      "cell_type": "code",
      "execution_count": 1,
      "id": "9ad87908-7256-4513-ba69-c27fc37f3629",
      "metadata": {
        "tags": [],
        "id": "9ad87908-7256-4513-ba69-c27fc37f3629"
      },
      "outputs": [],
      "source": [
        "import numpy as np\n"
      ]
    },
    {
      "cell_type": "code",
      "execution_count": 2,
      "id": "541e9ce9-fe8a-4097-9de7-b445c05f2f0c",
      "metadata": {
        "tags": [],
        "id": "541e9ce9-fe8a-4097-9de7-b445c05f2f0c"
      },
      "outputs": [],
      "source": [
        "arr=np.random.randn(4,4)"
      ]
    },
    {
      "cell_type": "code",
      "execution_count": 3,
      "id": "4e46309b-5c15-456b-b580-4205b63959da",
      "metadata": {
        "tags": [],
        "colab": {
          "base_uri": "https://localhost:8080/"
        },
        "id": "4e46309b-5c15-456b-b580-4205b63959da",
        "outputId": "5ed7d27c-8051-459e-dc09-c597775587c7"
      },
      "outputs": [
        {
          "output_type": "execute_result",
          "data": {
            "text/plain": [
              "array([[ 0.11762709,  0.44547497,  0.28554453, -2.56200449],\n",
              "       [ 1.09609301,  0.2109399 , -0.97056578,  0.12051475],\n",
              "       [ 0.96560352, -1.76677046, -0.48186227, -1.25381744],\n",
              "       [ 0.60262334,  0.90575243, -0.36172483,  0.57970256]])"
            ]
          },
          "metadata": {},
          "execution_count": 3
        }
      ],
      "source": [
        "arr"
      ]
    },
    {
      "cell_type": "code",
      "execution_count": 4,
      "id": "b9867e82-9bb8-4ee4-832d-9f27a231e7d3",
      "metadata": {
        "tags": [],
        "colab": {
          "base_uri": "https://localhost:8080/"
        },
        "id": "b9867e82-9bb8-4ee4-832d-9f27a231e7d3",
        "outputId": "c44b50d0-6e58-45c0-8609-d286980dffda"
      },
      "outputs": [
        {
          "output_type": "execute_result",
          "data": {
            "text/plain": [
              "-2.0668691637195398"
            ]
          },
          "metadata": {},
          "execution_count": 4
        }
      ],
      "source": [
        "arr.sum()"
      ]
    },
    {
      "cell_type": "code",
      "execution_count": 5,
      "id": "9be91569-87a8-4584-a6a2-d62c886721cb",
      "metadata": {
        "tags": [],
        "colab": {
          "base_uri": "https://localhost:8080/"
        },
        "id": "9be91569-87a8-4584-a6a2-d62c886721cb",
        "outputId": "536955d0-ba9f-4ef0-be82-47cabec1d128"
      },
      "outputs": [
        {
          "output_type": "execute_result",
          "data": {
            "text/plain": [
              "-0.12917932273247124"
            ]
          },
          "metadata": {},
          "execution_count": 5
        }
      ],
      "source": [
        "arr.mean()"
      ]
    },
    {
      "cell_type": "code",
      "execution_count": 8,
      "id": "7c355c71-5123-4977-9f41-fe60943545d8",
      "metadata": {
        "tags": [],
        "colab": {
          "base_uri": "https://localhost:8080/"
        },
        "id": "7c355c71-5123-4977-9f41-fe60943545d8",
        "outputId": "eea36770-6d37-4df4-9ceb-b6010f5e879c"
      },
      "outputs": [
        {
          "output_type": "execute_result",
          "data": {
            "text/plain": [
              "1.0188554326319978"
            ]
          },
          "metadata": {},
          "execution_count": 8
        }
      ],
      "source": [
        "arr.var()"
      ]
    },
    {
      "cell_type": "code",
      "execution_count": 6,
      "id": "9a803b8c-c625-40e2-a854-3b2be72a6dcc",
      "metadata": {
        "tags": [],
        "colab": {
          "base_uri": "https://localhost:8080/"
        },
        "id": "9a803b8c-c625-40e2-a854-3b2be72a6dcc",
        "outputId": "48137e68-c338-4e1c-e1fb-174c459464bb"
      },
      "outputs": [
        {
          "output_type": "execute_result",
          "data": {
            "text/plain": [
              "1.009383689501667"
            ]
          },
          "metadata": {},
          "execution_count": 6
        }
      ],
      "source": [
        "arr.std()"
      ]
    },
    {
      "cell_type": "code",
      "execution_count": 7,
      "id": "36595223-fe64-48d6-b032-213cfe53d48a",
      "metadata": {
        "tags": [],
        "colab": {
          "base_uri": "https://localhost:8080/"
        },
        "id": "36595223-fe64-48d6-b032-213cfe53d48a",
        "outputId": "c8349bfe-8954-4653-d160-37b1c6c8cd3c"
      },
      "outputs": [
        {
          "output_type": "execute_result",
          "data": {
            "text/plain": [
              "(array([0, 1, 2, 2, 2, 3]), array([3, 2, 1, 2, 3, 2]))"
            ]
          },
          "metadata": {},
          "execution_count": 7
        }
      ],
      "source": [
        "np.where(arr<0)\n"
      ]
    },
    {
      "cell_type": "code",
      "execution_count": 9,
      "id": "9b38771d-d1b4-42c8-9615-7285e6d06673",
      "metadata": {
        "tags": [],
        "colab": {
          "base_uri": "https://localhost:8080/"
        },
        "id": "9b38771d-d1b4-42c8-9615-7285e6d06673",
        "outputId": "1eed7b7a-801f-4224-ebf9-a2de4f0068d9"
      },
      "outputs": [
        {
          "output_type": "execute_result",
          "data": {
            "text/plain": [
              "array([[0.11762709, 0.44547497, 0.28554453, 0.        ],\n",
              "       [1.09609301, 0.2109399 , 0.        , 0.12051475],\n",
              "       [0.96560352, 0.        , 0.        , 0.        ],\n",
              "       [0.60262334, 0.90575243, 0.        , 0.57970256]])"
            ]
          },
          "metadata": {},
          "execution_count": 9
        }
      ],
      "source": [
        "np.where(arr<0,0,arr)"
      ]
    },
    {
      "cell_type": "code",
      "execution_count": 10,
      "id": "bda3beac-4878-43fd-b625-674779000326",
      "metadata": {
        "tags": [],
        "id": "bda3beac-4878-43fd-b625-674779000326"
      },
      "outputs": [],
      "source": [
        "arr.sort()"
      ]
    },
    {
      "cell_type": "code",
      "execution_count": 11,
      "id": "67700521-8b5e-49ec-86a5-6955f5dbfb25",
      "metadata": {
        "tags": [],
        "colab": {
          "base_uri": "https://localhost:8080/"
        },
        "id": "67700521-8b5e-49ec-86a5-6955f5dbfb25",
        "outputId": "f2676758-c8a6-4a19-dad0-ca37406b13f9"
      },
      "outputs": [
        {
          "output_type": "execute_result",
          "data": {
            "text/plain": [
              "array([[-2.56200449,  0.11762709,  0.28554453,  0.44547497],\n",
              "       [-0.97056578,  0.12051475,  0.2109399 ,  1.09609301],\n",
              "       [-1.76677046, -1.25381744, -0.48186227,  0.96560352],\n",
              "       [-0.36172483,  0.57970256,  0.60262334,  0.90575243]])"
            ]
          },
          "metadata": {},
          "execution_count": 11
        }
      ],
      "source": [
        "arr"
      ]
    },
    {
      "cell_type": "code",
      "execution_count": 11,
      "id": "b4f46e8f-a857-4e28-ba51-b11e15a7e0c1",
      "metadata": {
        "id": "b4f46e8f-a857-4e28-ba51-b11e15a7e0c1"
      },
      "outputs": [],
      "source": []
    }
  ],
  "metadata": {
    "kernelspec": {
      "display_name": "Python 3 (ipykernel)",
      "language": "python",
      "name": "python3"
    },
    "language_info": {
      "codemirror_mode": {
        "name": "ipython",
        "version": 3
      },
      "file_extension": ".py",
      "mimetype": "text/x-python",
      "name": "python",
      "nbconvert_exporter": "python",
      "pygments_lexer": "ipython3",
      "version": "3.11.5"
    },
    "colab": {
      "provenance": [],
      "include_colab_link": true
    }
  },
  "nbformat": 4,
  "nbformat_minor": 5
}