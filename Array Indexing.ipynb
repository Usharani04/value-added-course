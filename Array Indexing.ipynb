{
  "cells": [
    {
      "cell_type": "markdown",
      "metadata": {
        "id": "view-in-github",
        "colab_type": "text"
      },
      "source": [
        "<a href=\"https://colab.research.google.com/github/Usharani04/value-added-course/blob/main/Array%20Indexing.ipynb\" target=\"_parent\"><img src=\"https://colab.research.google.com/assets/colab-badge.svg\" alt=\"Open In Colab\"/></a>"
      ]
    },
    {
      "cell_type": "code",
      "execution_count": 1,
      "id": "1b64497c-8ead-48a6-afef-947142acb42d",
      "metadata": {
        "tags": [],
        "id": "1b64497c-8ead-48a6-afef-947142acb42d"
      },
      "outputs": [],
      "source": [
        "import numpy as np"
      ]
    },
    {
      "cell_type": "code",
      "execution_count": 2,
      "id": "bbb6b56f-721e-4967-8943-bd9b43c23c88",
      "metadata": {
        "tags": [],
        "id": "bbb6b56f-721e-4967-8943-bd9b43c23c88"
      },
      "outputs": [],
      "source": [
        "ls=[14,34,56,78,99,200,12.4,5,7.8]"
      ]
    },
    {
      "cell_type": "code",
      "execution_count": 3,
      "id": "9e46463f-4495-496f-ade0-faeb0906e0c5",
      "metadata": {
        "tags": [],
        "id": "9e46463f-4495-496f-ade0-faeb0906e0c5"
      },
      "outputs": [],
      "source": [
        "arr=np.array(ls)"
      ]
    },
    {
      "cell_type": "code",
      "execution_count": 4,
      "id": "570d98ac-c44b-4c09-9d21-8754766d2b56",
      "metadata": {
        "tags": [],
        "colab": {
          "base_uri": "https://localhost:8080/"
        },
        "id": "570d98ac-c44b-4c09-9d21-8754766d2b56",
        "outputId": "ecca089f-c7e9-4dd4-b9d0-7e4184f875c5"
      },
      "outputs": [
        {
          "output_type": "execute_result",
          "data": {
            "text/plain": [
              "array([ 14. ,  34. ,  56. ,  78. ,  99. , 200. ,  12.4,   5. ,   7.8])"
            ]
          },
          "metadata": {},
          "execution_count": 4
        }
      ],
      "source": [
        "arr"
      ]
    },
    {
      "cell_type": "code",
      "execution_count": 5,
      "id": "4e891e48-8831-4819-aee4-7f98d731ebb7",
      "metadata": {
        "tags": [],
        "colab": {
          "base_uri": "https://localhost:8080/"
        },
        "id": "4e891e48-8831-4819-aee4-7f98d731ebb7",
        "outputId": "ce3afc7a-6073-4d3f-fb70-653b7bbb2c37"
      },
      "outputs": [
        {
          "output_type": "execute_result",
          "data": {
            "text/plain": [
              "14.0"
            ]
          },
          "metadata": {},
          "execution_count": 5
        }
      ],
      "source": [
        "arr[0]"
      ]
    },
    {
      "cell_type": "code",
      "execution_count": 6,
      "id": "b334b433-2ae5-4c73-a8aa-edc564a04ff4",
      "metadata": {
        "tags": [],
        "colab": {
          "base_uri": "https://localhost:8080/"
        },
        "id": "b334b433-2ae5-4c73-a8aa-edc564a04ff4",
        "outputId": "de27a336-b995-4d45-a6a2-1ac8cd3d7fed"
      },
      "outputs": [
        {
          "output_type": "execute_result",
          "data": {
            "text/plain": [
              "5.0"
            ]
          },
          "metadata": {},
          "execution_count": 6
        }
      ],
      "source": [
        "arr[7]"
      ]
    },
    {
      "cell_type": "code",
      "execution_count": 7,
      "id": "a3b7924a-2d15-4754-b259-76f8c47ceb94",
      "metadata": {
        "tags": [],
        "colab": {
          "base_uri": "https://localhost:8080/"
        },
        "id": "a3b7924a-2d15-4754-b259-76f8c47ceb94",
        "outputId": "74fa2af8-7d75-42a9-a2e9-24cbab9c5b27"
      },
      "outputs": [
        {
          "output_type": "execute_result",
          "data": {
            "text/plain": [
              "(9,)"
            ]
          },
          "metadata": {},
          "execution_count": 7
        }
      ],
      "source": [
        "arr.shape"
      ]
    },
    {
      "cell_type": "code",
      "execution_count": 8,
      "id": "7eb519f2-0a09-43d3-96ba-bbd609537d71",
      "metadata": {
        "tags": [],
        "colab": {
          "base_uri": "https://localhost:8080/"
        },
        "id": "7eb519f2-0a09-43d3-96ba-bbd609537d71",
        "outputId": "2715f918-1970-4b7b-a711-b83ff4889fe3"
      },
      "outputs": [
        {
          "output_type": "execute_result",
          "data": {
            "text/plain": [
              "array([56., 78., 99.])"
            ]
          },
          "metadata": {},
          "execution_count": 8
        }
      ],
      "source": [
        "arr[2:5]"
      ]
    },
    {
      "cell_type": "code",
      "execution_count": 9,
      "id": "063503ca-5aaa-431c-ad3c-f966d864d39b",
      "metadata": {
        "tags": [],
        "colab": {
          "base_uri": "https://localhost:8080/"
        },
        "id": "063503ca-5aaa-431c-ad3c-f966d864d39b",
        "outputId": "b92fa17d-146a-4b0b-e980-4aaf4fd97841"
      },
      "outputs": [
        {
          "output_type": "execute_result",
          "data": {
            "text/plain": [
              "array([ 78. ,  99. , 200. ,  12.4,   5. ])"
            ]
          },
          "metadata": {},
          "execution_count": 9
        }
      ],
      "source": [
        "arr[3:8] #arr[a:b]"
      ]
    },
    {
      "cell_type": "code",
      "execution_count": 10,
      "id": "00186219-b793-4aa2-9872-6571e60c66c5",
      "metadata": {
        "tags": [],
        "colab": {
          "base_uri": "https://localhost:8080/"
        },
        "id": "00186219-b793-4aa2-9872-6571e60c66c5",
        "outputId": "ce4f7981-9aec-41ae-b330-a25fa40960fe"
      },
      "outputs": [
        {
          "output_type": "execute_result",
          "data": {
            "text/plain": [
              "56.0"
            ]
          },
          "metadata": {},
          "execution_count": 10
        }
      ],
      "source": [
        "arr[2]"
      ]
    },
    {
      "cell_type": "code",
      "execution_count": 11,
      "id": "e3268d41-8642-41ed-80e6-06d24fb307d9",
      "metadata": {
        "tags": [],
        "id": "e3268d41-8642-41ed-80e6-06d24fb307d9"
      },
      "outputs": [],
      "source": [
        "arr[1:3]=44"
      ]
    },
    {
      "cell_type": "code",
      "execution_count": 12,
      "id": "c50360e4-3d48-4685-a5e8-05d3fd4115c0",
      "metadata": {
        "tags": [],
        "colab": {
          "base_uri": "https://localhost:8080/"
        },
        "id": "c50360e4-3d48-4685-a5e8-05d3fd4115c0",
        "outputId": "91ef8a5a-39c1-46ee-9d17-bab33e484872"
      },
      "outputs": [
        {
          "output_type": "execute_result",
          "data": {
            "text/plain": [
              "array([ 14. ,  44. ,  44. ,  78. ,  99. , 200. ,  12.4,   5. ,   7.8])"
            ]
          },
          "metadata": {},
          "execution_count": 12
        }
      ],
      "source": [
        "arr"
      ]
    },
    {
      "cell_type": "code",
      "execution_count": 15,
      "id": "8470e55b-105c-4473-bbb0-20b157d21935",
      "metadata": {
        "tags": [],
        "id": "8470e55b-105c-4473-bbb0-20b157d21935"
      },
      "outputs": [],
      "source": [
        "array_slice=arr[3:8]"
      ]
    },
    {
      "cell_type": "code",
      "execution_count": 16,
      "id": "d26dc149-bc6e-452f-8f8b-8e48de383c42",
      "metadata": {
        "tags": [],
        "colab": {
          "base_uri": "https://localhost:8080/"
        },
        "id": "d26dc149-bc6e-452f-8f8b-8e48de383c42",
        "outputId": "77ca8824-cd5c-4f71-bbbc-b4cd3e55bd03"
      },
      "outputs": [
        {
          "output_type": "execute_result",
          "data": {
            "text/plain": [
              "array([ 78. ,  99. , 200. ,  12.4,   5. ])"
            ]
          },
          "metadata": {},
          "execution_count": 16
        }
      ],
      "source": [
        "array_slice"
      ]
    },
    {
      "cell_type": "code",
      "execution_count": 17,
      "id": "c2dec2a9-f7cc-4b1b-9c60-1adace3eee68",
      "metadata": {
        "tags": [],
        "colab": {
          "base_uri": "https://localhost:8080/"
        },
        "id": "c2dec2a9-f7cc-4b1b-9c60-1adace3eee68",
        "outputId": "6b630dcb-6e60-4a92-e902-290c613d547d"
      },
      "outputs": [
        {
          "output_type": "execute_result",
          "data": {
            "text/plain": [
              "array([ 99. , 200. ,  12.4,   5. ])"
            ]
          },
          "metadata": {},
          "execution_count": 17
        }
      ],
      "source": [
        "array_slice[1:]"
      ]
    },
    {
      "cell_type": "code",
      "execution_count": 18,
      "id": "a7af3467-e016-4ed5-95eb-53e1304cb7a3",
      "metadata": {
        "tags": [],
        "id": "a7af3467-e016-4ed5-95eb-53e1304cb7a3"
      },
      "outputs": [],
      "source": [
        "array_slice[:]=-1"
      ]
    },
    {
      "cell_type": "code",
      "execution_count": 19,
      "id": "e9be7e1e-3dc1-4709-ac10-7209dc2fd745",
      "metadata": {
        "tags": [],
        "colab": {
          "base_uri": "https://localhost:8080/"
        },
        "id": "e9be7e1e-3dc1-4709-ac10-7209dc2fd745",
        "outputId": "7a55e851-3ce9-47b7-c461-703680fb552c"
      },
      "outputs": [
        {
          "output_type": "execute_result",
          "data": {
            "text/plain": [
              "array([-1., -1., -1., -1., -1.])"
            ]
          },
          "metadata": {},
          "execution_count": 19
        }
      ],
      "source": [
        "array_slice"
      ]
    },
    {
      "cell_type": "code",
      "execution_count": 20,
      "id": "154fac9d-59b6-4198-847e-b8d88f8d644d",
      "metadata": {
        "tags": [],
        "colab": {
          "base_uri": "https://localhost:8080/"
        },
        "id": "154fac9d-59b6-4198-847e-b8d88f8d644d",
        "outputId": "e6c1d964-4f9c-4a5e-d68a-0c430f834b0f"
      },
      "outputs": [
        {
          "output_type": "execute_result",
          "data": {
            "text/plain": [
              "array([14. , 44. , 44. , -1. , -1. , -1. , -1. , -1. ,  7.8])"
            ]
          },
          "metadata": {},
          "execution_count": 20
        }
      ],
      "source": [
        "arr"
      ]
    },
    {
      "cell_type": "code",
      "execution_count": 21,
      "id": "b1766bc7-a2f7-40b6-984f-af98137aff94",
      "metadata": {
        "tags": [],
        "id": "b1766bc7-a2f7-40b6-984f-af98137aff94"
      },
      "outputs": [],
      "source": [
        "arrw=arr.copy()"
      ]
    },
    {
      "cell_type": "code",
      "execution_count": 22,
      "id": "bcef4ef2-307f-4a08-8e9f-26285f95d853",
      "metadata": {
        "tags": [],
        "id": "bcef4ef2-307f-4a08-8e9f-26285f95d853"
      },
      "outputs": [],
      "source": [
        "arrw[3]=56"
      ]
    },
    {
      "cell_type": "code",
      "execution_count": 24,
      "id": "3d327e20-9041-4c91-8280-dc1d7a9d63ec",
      "metadata": {
        "tags": [],
        "colab": {
          "base_uri": "https://localhost:8080/"
        },
        "id": "3d327e20-9041-4c91-8280-dc1d7a9d63ec",
        "outputId": "8bf1f0f7-f561-40a6-f47a-f0011df58640"
      },
      "outputs": [
        {
          "output_type": "execute_result",
          "data": {
            "text/plain": [
              "array([14. , 44. , 44. , 56. , -1. , -1. , -1. , -1. ,  7.8])"
            ]
          },
          "metadata": {},
          "execution_count": 24
        }
      ],
      "source": [
        "arrw"
      ]
    },
    {
      "cell_type": "code",
      "execution_count": 25,
      "id": "21e351af-c70e-4b1a-8ef8-83fcfc3e3e92",
      "metadata": {
        "tags": [],
        "id": "21e351af-c70e-4b1a-8ef8-83fcfc3e3e92"
      },
      "outputs": [],
      "source": [
        "arr=np.arange(90)"
      ]
    },
    {
      "cell_type": "code",
      "execution_count": 23,
      "id": "46d2ffbe-645e-413b-a3df-d0010f1c01ee",
      "metadata": {
        "tags": [],
        "colab": {
          "base_uri": "https://localhost:8080/"
        },
        "id": "46d2ffbe-645e-413b-a3df-d0010f1c01ee",
        "outputId": "271305b3-ca41-4736-d03b-6d987d6a6c29"
      },
      "outputs": [
        {
          "output_type": "execute_result",
          "data": {
            "text/plain": [
              "array([14. , 44. , 44. , -1. , -1. , -1. , -1. , -1. ,  7.8])"
            ]
          },
          "metadata": {},
          "execution_count": 23
        }
      ],
      "source": [
        "arr"
      ]
    },
    {
      "cell_type": "code",
      "execution_count": 26,
      "id": "eabe710a-4dec-4182-86b7-d339a5bd95f8",
      "metadata": {
        "tags": [],
        "id": "eabe710a-4dec-4182-86b7-d339a5bd95f8"
      },
      "outputs": [],
      "source": [
        "arr=arr.reshape(9,10)"
      ]
    },
    {
      "cell_type": "code",
      "execution_count": 27,
      "id": "0ceae104-0e27-4afe-b1e6-be0b45755ba2",
      "metadata": {
        "tags": [],
        "colab": {
          "base_uri": "https://localhost:8080/"
        },
        "id": "0ceae104-0e27-4afe-b1e6-be0b45755ba2",
        "outputId": "a9564c34-f0ad-4efa-ec36-e4a0552131b8"
      },
      "outputs": [
        {
          "output_type": "execute_result",
          "data": {
            "text/plain": [
              "array([[ 0,  1,  2,  3,  4,  5,  6,  7,  8,  9],\n",
              "       [10, 11, 12, 13, 14, 15, 16, 17, 18, 19],\n",
              "       [20, 21, 22, 23, 24, 25, 26, 27, 28, 29],\n",
              "       [30, 31, 32, 33, 34, 35, 36, 37, 38, 39],\n",
              "       [40, 41, 42, 43, 44, 45, 46, 47, 48, 49],\n",
              "       [50, 51, 52, 53, 54, 55, 56, 57, 58, 59],\n",
              "       [60, 61, 62, 63, 64, 65, 66, 67, 68, 69],\n",
              "       [70, 71, 72, 73, 74, 75, 76, 77, 78, 79],\n",
              "       [80, 81, 82, 83, 84, 85, 86, 87, 88, 89]])"
            ]
          },
          "metadata": {},
          "execution_count": 27
        }
      ],
      "source": [
        "arr"
      ]
    },
    {
      "cell_type": "code",
      "execution_count": 28,
      "id": "2ed230bc-0d20-4a37-bece-aefbf5acc50b",
      "metadata": {
        "tags": [],
        "colab": {
          "base_uri": "https://localhost:8080/"
        },
        "id": "2ed230bc-0d20-4a37-bece-aefbf5acc50b",
        "outputId": "bfd01eed-a4c6-4d93-9197-fb2b790db7b7"
      },
      "outputs": [
        {
          "output_type": "execute_result",
          "data": {
            "text/plain": [
              "(9, 10)"
            ]
          },
          "metadata": {},
          "execution_count": 28
        }
      ],
      "source": [
        "arr.shape"
      ]
    },
    {
      "cell_type": "code",
      "execution_count": 29,
      "id": "785c12a9-de15-403b-aee1-59a716742630",
      "metadata": {
        "tags": [],
        "colab": {
          "base_uri": "https://localhost:8080/"
        },
        "id": "785c12a9-de15-403b-aee1-59a716742630",
        "outputId": "9e0781d9-2f4f-454d-f966-1844cab5f228"
      },
      "outputs": [
        {
          "output_type": "execute_result",
          "data": {
            "text/plain": [
              "11"
            ]
          },
          "metadata": {},
          "execution_count": 29
        }
      ],
      "source": [
        "arr[1,1]"
      ]
    },
    {
      "cell_type": "code",
      "execution_count": 30,
      "id": "8056a000-ac0f-4a92-a87f-746d017af20e",
      "metadata": {
        "tags": [],
        "colab": {
          "base_uri": "https://localhost:8080/"
        },
        "id": "8056a000-ac0f-4a92-a87f-746d017af20e",
        "outputId": "57b9bd47-9d7b-4008-c508-fe758ef22b8f"
      },
      "outputs": [
        {
          "output_type": "execute_result",
          "data": {
            "text/plain": [
              "23"
            ]
          },
          "metadata": {},
          "execution_count": 30
        }
      ],
      "source": [
        "arr[2,3]"
      ]
    },
    {
      "cell_type": "code",
      "execution_count": 31,
      "id": "b53f8d4d-1a33-4ad6-9086-b1694e9f6e33",
      "metadata": {
        "tags": [],
        "colab": {
          "base_uri": "https://localhost:8080/"
        },
        "id": "b53f8d4d-1a33-4ad6-9086-b1694e9f6e33",
        "outputId": "18efa260-ee39-4039-c9d0-8b460605a2b3"
      },
      "outputs": [
        {
          "output_type": "execute_result",
          "data": {
            "text/plain": [
              "55"
            ]
          },
          "metadata": {},
          "execution_count": 31
        }
      ],
      "source": [
        "arr[5,5]"
      ]
    },
    {
      "cell_type": "code",
      "execution_count": 32,
      "id": "1788717a-c0db-4a69-a892-ccdbdd61223d",
      "metadata": {
        "tags": [],
        "colab": {
          "base_uri": "https://localhost:8080/"
        },
        "id": "1788717a-c0db-4a69-a892-ccdbdd61223d",
        "outputId": "e5078001-f763-4af5-97ac-5552799e1f5d"
      },
      "outputs": [
        {
          "output_type": "execute_result",
          "data": {
            "text/plain": [
              "67"
            ]
          },
          "metadata": {},
          "execution_count": 32
        }
      ],
      "source": [
        "arr[6,7]"
      ]
    },
    {
      "cell_type": "code",
      "execution_count": 33,
      "id": "bbcf71b2-30d5-4a72-b276-99f3a38aaca0",
      "metadata": {
        "tags": [],
        "colab": {
          "base_uri": "https://localhost:8080/"
        },
        "id": "bbcf71b2-30d5-4a72-b276-99f3a38aaca0",
        "outputId": "c2123e63-fa79-46a5-aa55-9eac7c52b3c5"
      },
      "outputs": [
        {
          "output_type": "execute_result",
          "data": {
            "text/plain": [
              "14"
            ]
          },
          "metadata": {},
          "execution_count": 33
        }
      ],
      "source": [
        "# multidimensional arrays\n",
        "arr[1][4]\n"
      ]
    },
    {
      "cell_type": "code",
      "execution_count": 34,
      "id": "3d6b2253-09e4-4cf0-99b1-227f9ba5102e",
      "metadata": {
        "tags": [],
        "colab": {
          "base_uri": "https://localhost:8080/"
        },
        "id": "3d6b2253-09e4-4cf0-99b1-227f9ba5102e",
        "outputId": "8ec06073-390d-4566-cc86-3b71f11dc99b"
      },
      "outputs": [
        {
          "output_type": "execute_result",
          "data": {
            "text/plain": [
              "24"
            ]
          },
          "metadata": {},
          "execution_count": 34
        }
      ],
      "source": [
        "arr[2][4]"
      ]
    },
    {
      "cell_type": "code",
      "execution_count": 36,
      "id": "0548d707-4809-44e8-99c5-16773c7183a5",
      "metadata": {
        "tags": [],
        "id": "0548d707-4809-44e8-99c5-16773c7183a5"
      },
      "outputs": [],
      "source": [
        "arr=arr.reshape(9,2,5)"
      ]
    },
    {
      "cell_type": "code",
      "execution_count": 35,
      "id": "642fdc71-171e-4dbe-8931-b78e962d259b",
      "metadata": {
        "tags": [],
        "colab": {
          "base_uri": "https://localhost:8080/"
        },
        "id": "642fdc71-171e-4dbe-8931-b78e962d259b",
        "outputId": "708ec29b-1fb9-47ef-dba0-72b8a5e78040"
      },
      "outputs": [
        {
          "output_type": "execute_result",
          "data": {
            "text/plain": [
              "array([[ 0,  1,  2,  3,  4,  5,  6,  7,  8,  9],\n",
              "       [10, 11, 12, 13, 14, 15, 16, 17, 18, 19],\n",
              "       [20, 21, 22, 23, 24, 25, 26, 27, 28, 29],\n",
              "       [30, 31, 32, 33, 34, 35, 36, 37, 38, 39],\n",
              "       [40, 41, 42, 43, 44, 45, 46, 47, 48, 49],\n",
              "       [50, 51, 52, 53, 54, 55, 56, 57, 58, 59],\n",
              "       [60, 61, 62, 63, 64, 65, 66, 67, 68, 69],\n",
              "       [70, 71, 72, 73, 74, 75, 76, 77, 78, 79],\n",
              "       [80, 81, 82, 83, 84, 85, 86, 87, 88, 89]])"
            ]
          },
          "metadata": {},
          "execution_count": 35
        }
      ],
      "source": [
        "arr"
      ]
    },
    {
      "cell_type": "code",
      "execution_count": 37,
      "id": "cd9e6074-7008-4d55-b0cf-a13a447bfce9",
      "metadata": {
        "tags": [],
        "colab": {
          "base_uri": "https://localhost:8080/"
        },
        "id": "cd9e6074-7008-4d55-b0cf-a13a447bfce9",
        "outputId": "effb6845-c1c0-487e-8d80-8d949c5671e9"
      },
      "outputs": [
        {
          "output_type": "execute_result",
          "data": {
            "text/plain": [
              "array([[70, 71, 72, 73, 74],\n",
              "       [75, 76, 77, 78, 79]])"
            ]
          },
          "metadata": {},
          "execution_count": 37
        }
      ],
      "source": [
        "arr[7]"
      ]
    },
    {
      "cell_type": "code",
      "execution_count": 38,
      "id": "6890c94a-7c13-483a-a6a3-d40309d68822",
      "metadata": {
        "tags": [],
        "colab": {
          "base_uri": "https://localhost:8080/"
        },
        "id": "6890c94a-7c13-483a-a6a3-d40309d68822",
        "outputId": "87e393d9-f313-44da-b2d1-4f55381950e0"
      },
      "outputs": [
        {
          "output_type": "execute_result",
          "data": {
            "text/plain": [
              "array([30, 31, 32, 33, 34])"
            ]
          },
          "metadata": {},
          "execution_count": 38
        }
      ],
      "source": [
        "arr[3][0]"
      ]
    },
    {
      "cell_type": "code",
      "execution_count": 38,
      "id": "b14fad8c-b923-4ef3-a8a6-07dbd244184e",
      "metadata": {
        "id": "b14fad8c-b923-4ef3-a8a6-07dbd244184e"
      },
      "outputs": [],
      "source": []
    }
  ],
  "metadata": {
    "kernelspec": {
      "display_name": "Python 3 (ipykernel)",
      "language": "python",
      "name": "python3"
    },
    "language_info": {
      "codemirror_mode": {
        "name": "ipython",
        "version": 3
      },
      "file_extension": ".py",
      "mimetype": "text/x-python",
      "name": "python",
      "nbconvert_exporter": "python",
      "pygments_lexer": "ipython3",
      "version": "3.11.5"
    },
    "colab": {
      "provenance": [],
      "include_colab_link": true
    }
  },
  "nbformat": 4,
  "nbformat_minor": 5
}